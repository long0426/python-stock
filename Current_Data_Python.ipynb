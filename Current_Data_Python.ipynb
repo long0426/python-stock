{
 "cells": [
  {
   "cell_type": "code",
   "execution_count": null,
   "metadata": {},
   "outputs": [],
   "source": [
    "import twstock as t\n",
    "import pandas as p\n",
    "\n",
    "stock = t.realtime.get(\"0050\")\n",
    "# print(stock['success'])\n",
    "\n",
    "result = p.DataFrame(stock).T.iloc[1:3]\n",
    "result.columns = ['股票代碼','地區','股票名稱','公司全名','現在時間','最新成交價','成交量','累計成交量','最佳五檔賣出價','最佳五檔賣出量','最佳五檔買進價','最佳五檔買進量','開盤價','最高價','最低價']\n",
    "result"
   ]
  }
 ],
 "metadata": {
  "kernelspec": {
   "display_name": "Python 3",
   "language": "python",
   "name": "python3"
  },
  "language_info": {
   "codemirror_mode": {
    "name": "ipython",
    "version": 3
   },
   "file_extension": ".py",
   "mimetype": "text/x-python",
   "name": "python",
   "nbconvert_exporter": "python",
   "pygments_lexer": "ipython3",
   "version": "3.8.19"
  }
 },
 "nbformat": 4,
 "nbformat_minor": 2
}
